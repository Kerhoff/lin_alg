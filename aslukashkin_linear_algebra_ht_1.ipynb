{
  "nbformat": 4,
  "nbformat_minor": 0,
  "metadata": {
    "colab": {
      "provenance": [],
      "authorship_tag": "ABX9TyM6dBuFq/DeWRUJcKaDhst+",
      "include_colab_link": true
    },
    "kernelspec": {
      "name": "python3",
      "display_name": "Python 3"
    },
    "language_info": {
      "name": "python"
    }
  },
  "cells": [
    {
      "cell_type": "markdown",
      "metadata": {
        "id": "view-in-github",
        "colab_type": "text"
      },
      "source": [
        "<a href=\"https://colab.research.google.com/github/Kerhoff/lin_alg/blob/main/aslukashkin_linear_algebra_ht_1.ipynb\" target=\"_parent\"><img src=\"https://colab.research.google.com/assets/colab-badge.svg\" alt=\"Open In Colab\"/></a>"
      ]
    },
    {
      "cell_type": "markdown",
      "source": [
        "# Практическое задание. Часть 1."
      ],
      "metadata": {
        "id": "kbDgncAlo7Xb"
      }
    },
    {
      "cell_type": "markdown",
      "metadata": {
        "id": "NaYoffkueD8U"
      },
      "source": [
        "##__1.__ Исследовать на линейную зависимость:\n",
        "\n",
        "$$f_{1}(x)=e^{x}, f_{2}(x)=1, f_{3}(x)=x+1, f_{4}(x)=x-e^{x}.$$\n"
      ]
    },
    {
      "cell_type": "markdown",
      "source": [
        "__Решение__\n",
        "\n",
        "Выразим один вектор через линейную комбинацию других векторов:\n",
        "$$f_{4}(x) = f_{3}(x) - f_{2}(x) - f_{1}(x)$$\n",
        "$$x - e^{x} = x + 1 - 1 - e^{x}$$\n",
        "\n",
        "Поскольку вектор $f_{4}$ удалось выразить через нетривиальную линейную комбинацию остальных, следует вывод, что вектора линейно зависимы."
      ],
      "metadata": {
        "id": "ec5BmfRCpU7U"
      }
    },
    {
      "cell_type": "markdown",
      "metadata": {
        "id": "cECfCSANkVqR"
      },
      "source": [
        "##__2.__ Исследовать на линейную зависимость:\n",
        "$$f_{1}(x)=2, f_{2}(x)=x, f_{3}(x)=x^{2}, f_{4}(x)=(x+1)^{2}$$"
      ]
    },
    {
      "cell_type": "markdown",
      "source": [
        "__Решение__\n",
        "\n",
        "Выразим один из векторов через линейную комбинацию других векторов\n",
        "$$(x+1)^{2} = x^{2} + 2x + 1$$\n",
        "\n",
        "Вектора линейно зависимы"
      ],
      "metadata": {
        "id": "-uoJOjiwr-71"
      }
    },
    {
      "cell_type": "markdown",
      "metadata": {
        "id": "DFrjdtbHkVqS"
      },
      "source": [
        "##__3.__ Найти координаты вектора $x = (2, 3, 5)\\in \\mathbb{R}^{3}$ в базисе $b_{1}=(0, 0, 10)$, $b_{2}=(2, 0, 0)$, $b_{3}=(0, 1, 0)$.\n"
      ]
    },
    {
      "cell_type": "markdown",
      "source": [
        "$$x = (2, 3, 5) = \\frac{1}{2}b_{1} + b_{2} + 3b_{3}$$\n",
        "$$x = (\\frac{1}{2}, 1, 3)$$\n"
      ],
      "metadata": {
        "id": "OWZJ-iEippAH"
      }
    },
    {
      "cell_type": "markdown",
      "metadata": {
        "id": "5la-eVLukVqT"
      },
      "source": [
        "##__4.__ Найти координаты вектора $3x^{2}-2x+2\\in\\mathbb{R}^{3}[x]$:"
      ]
    },
    {
      "cell_type": "markdown",
      "source": [
        "##а) в базисе $1$, $x$, $x^{2}$;"
      ],
      "metadata": {
        "id": "UvrqZhCCDlXN"
      }
    },
    {
      "cell_type": "markdown",
      "source": [
        "$$x = 2*(1) + (-2)*(x) + 3*(x^2)$$\n",
        "$$x = (2, -2, 3)$$"
      ],
      "metadata": {
        "id": "kgYalOAqDui3"
      }
    },
    {
      "cell_type": "markdown",
      "source": [
        "##б) в базисе $x^{2}$, $x-1$, $1$."
      ],
      "metadata": {
        "id": "2w38JeMDDlFf"
      }
    },
    {
      "cell_type": "markdown",
      "source": [
        "$$3x^2 - 2(x - 1) + 0 = 3x^2 - 2x + 2$$"
      ],
      "metadata": {
        "id": "xIFEsidapqWS"
      }
    },
    {
      "cell_type": "markdown",
      "metadata": {
        "id": "kQlell_GkVqU"
      },
      "source": [
        "##__5.__ Установить, является ли линейным подпространством:"
      ]
    },
    {
      "cell_type": "markdown",
      "source": [
        "\n",
        "###а) совокупность всех векторов трехмерного пространства, у которых по крайней мере одна из первых двух координат равна нулю; \n"
      ],
      "metadata": {
        "id": "ZNPkv4Wsp62j"
      }
    },
    {
      "cell_type": "markdown",
      "source": [
        "$$(1, 0, 1) + (0, 1, 1) = (1, 1, 2)$$\n",
        "\n",
        "__Ответ:__ Не является"
      ],
      "metadata": {
        "id": "Na7Iz7FwqTVV"
      }
    },
    {
      "cell_type": "markdown",
      "source": [
        "###б) все векторы, являющиеся линейными комбинациями данных векторов $\\{u_{1}, u_{2}, \\ldots, u_{n}\\}$.\n",
        "\n",
        "$$a = λ_1u_1 + λ_2u_2 + ... + λ_nu_n$$\n",
        "$$b = μ_1u_1 + μ_2u_2 + ... + μ_nu_n$$\n",
        "$$a + b = (λ_1 + μ_1)u_1 + (λ_2 + μ_2)u_2 + ... + (λ_n + μ_n)u_n$$\n",
        "$$α⋅a = αλ_1u_1 + αλ_2u_2 + ... + αλ_nu_n$$\n",
        "$$β⋅b = βμ_1u_1 + βμ_2u_2 + ... + βμ_nu_n$$\n",
        "\n",
        "__Ответ:__ является"
      ],
      "metadata": {
        "id": "2ALqeHNcp6jm"
      }
    },
    {
      "cell_type": "markdown",
      "source": [
        "#Практическое задание. Часть 2."
      ],
      "metadata": {
        "id": "ldxu4AUZO7kU"
      }
    },
    {
      "cell_type": "markdown",
      "source": [
        "##1. Найти скалярное произведение векторов  𝑥,𝑦 ∈ ℝ:\n"
      ],
      "metadata": {
        "id": "aGaB-6X3PFBA"
      }
    },
    {
      "cell_type": "markdown",
      "source": [
        "## а)  𝑥=(0,−3,6), 𝑦=(−4,7,9); "
      ],
      "metadata": {
        "id": "lbxEO4E7S5MG"
      }
    },
    {
      "cell_type": "code",
      "source": [
        "def scalar_multiplay_of_vectors(x, y):\n",
        "  result = 0\n",
        "  for X, Y in zip(x, y):\n",
        "    result += X * Y\n",
        "  return result"
      ],
      "metadata": {
        "id": "FbJXGNrBTl-z"
      },
      "execution_count": 2,
      "outputs": []
    },
    {
      "cell_type": "code",
      "source": [
        "x = [0, -3, 6]\n",
        "y = [-4, 7, 9]\n",
        "\n",
        "print(f'Скалярное произведение векторов x, y: {scalar_multiplay_of_vectors(x, y)}')"
      ],
      "metadata": {
        "colab": {
          "base_uri": "https://localhost:8080/"
        },
        "id": "nEwfn4wLUDIb",
        "outputId": "fbe95ebd-778d-4345-b45e-4deea7ded895"
      },
      "execution_count": 4,
      "outputs": [
        {
          "output_type": "stream",
          "name": "stdout",
          "text": [
            "Скалярное произведение векторов x, y: 33\n"
          ]
        }
      ]
    },
    {
      "cell_type": "markdown",
      "source": [
        "##б)  𝑥=(7,−4,0,1), 𝑦=(−3,1,11,2)."
      ],
      "metadata": {
        "id": "3BREhzCETN_C"
      }
    },
    {
      "cell_type": "code",
      "source": [
        "x = [7, -4, 0, 1]\n",
        "y = [-3, 1, 11, 2]\n",
        "\n",
        "print(f'Скалярное произведение векторов x, y: {scalar_multiplay_of_vectors(x, y)}')"
      ],
      "metadata": {
        "colab": {
          "base_uri": "https://localhost:8080/"
        },
        "id": "aeYCLBAwU2JQ",
        "outputId": "c3ce4ebf-7868-426b-fea7-6d01c9e1608c"
      },
      "execution_count": 5,
      "outputs": [
        {
          "output_type": "stream",
          "name": "stdout",
          "text": [
            "Скалярное произведение векторов x, y: -23\n"
          ]
        }
      ]
    },
    {
      "cell_type": "markdown",
      "source": [
        "##2. Найти нормы векторов  (4,2,4)  и  (12,3,4)  и угол между ними.\n"
      ],
      "metadata": {
        "id": "sAKRKGx-PMH3"
      }
    },
    {
      "cell_type": "code",
      "source": [
        "import numpy as np\n",
        "import math\n",
        "\n",
        "x = np.array([4, 2, 4])\n",
        "y = np.array([12, 3, 4])\n",
        "\n",
        "norm_x = np.sqrt(scalar_multiplay_of_vectors(x, x))\n",
        "norm_y = np.sqrt(scalar_multiplay_of_vectors(y, y))\n",
        "\n",
        "cos_phi = scalar_multiplay_of_vectors(x, y) / (norm_x * norm_y)\n",
        "\n",
        "print(f'Норма вектора X: {norm_x}')\n",
        "print(f'Норма вектора Y: {norm_y}')\n",
        "print(f'Угол между векторами: {math.acos(cos_phi)*(180/math.pi)}')"
      ],
      "metadata": {
        "colab": {
          "base_uri": "https://localhost:8080/"
        },
        "id": "pJjH601UdWs4",
        "outputId": "fa52ae18-6ac9-43ad-a8cc-14598574eb81"
      },
      "execution_count": 6,
      "outputs": [
        {
          "output_type": "stream",
          "name": "stdout",
          "text": [
            "Норма вектора X: 6.0\n",
            "Норма вектора Y: 13.0\n",
            "Угол между векторами: 26.176952171666542\n"
          ]
        }
      ]
    },
    {
      "cell_type": "code",
      "source": [
        "from numpy.linalg import norm\n",
        "\n",
        "norm(x), norm(y), math.acos(x.dot(y)/norm(x)/norm(y))*(180/math.pi)"
      ],
      "metadata": {
        "colab": {
          "base_uri": "https://localhost:8080/"
        },
        "id": "A6C-8f3me74T",
        "outputId": "5b656371-1878-4029-836f-4bf91e8ee200"
      },
      "execution_count": 8,
      "outputs": [
        {
          "output_type": "execute_result",
          "data": {
            "text/plain": [
              "(6.0, 13.0, 26.176952171666557)"
            ]
          },
          "metadata": {},
          "execution_count": 8
        }
      ]
    },
    {
      "cell_type": "markdown",
      "source": [
        "##3. Будет ли линейное пространство евклидовым, если за скалярное произведение принять:"
      ],
      "metadata": {
        "id": "TY3Lu0TqPQK7"
      }
    },
    {
      "cell_type": "markdown",
      "source": [
        "##а) произведение длин векторов;\n"
      ],
      "metadata": {
        "id": "LWNcqZ6DfnUu"
      }
    },
    {
      "cell_type": "code",
      "source": [
        "def multiply_vector_length(a, b):\n",
        "  return norm(a) * norm(b)"
      ],
      "metadata": {
        "id": "aA9VlTrWfucN"
      },
      "execution_count": 9,
      "outputs": []
    },
    {
      "cell_type": "markdown",
      "source": [
        "##б) утроенное обычное скалярное произведение векторов?\n"
      ],
      "metadata": {
        "id": "aSd5mFUHfnEd"
      }
    },
    {
      "cell_type": "code",
      "source": [
        "def triple_scalar(a, b):\n",
        "  return 3*a.dot(b)"
      ],
      "metadata": {
        "id": "Im0zzOVkgSkK"
      },
      "execution_count": 10,
      "outputs": []
    },
    {
      "cell_type": "code",
      "source": [
        "def check_axioms(func):\n",
        "  x = np.array([1, 2, 4])\n",
        "  y = np.array([4, 5, 6])\n",
        "  x1 = np.array([7, 8, 9])\n",
        "  x2 = np.array([2, 5, 11])\n",
        "  Lambda = 3\n",
        "\n",
        "  print(func(x, y) == func(y, x))\n",
        "\n",
        "  print(func(Lambda*x, y) == Lambda*func(x,y))\n",
        "\n",
        "  print(func(x1 + x2, y) == (func(x1, y) + func(x2, y)))\n",
        "\n",
        "  nul = np.array([0, 0, 0])\n",
        "  print(func(x, x) >= 0, func(nul, nul) == 0)"
      ],
      "metadata": {
        "id": "o6zblsIlgoPj"
      },
      "execution_count": 11,
      "outputs": []
    },
    {
      "cell_type": "code",
      "source": [
        "print('CASE A:')\n",
        "check_axioms(multiply_vector_length)\n",
        "print('---------')\n",
        "print('CASE B:')\n",
        "check_axioms(triple_scalar)"
      ],
      "metadata": {
        "colab": {
          "base_uri": "https://localhost:8080/"
        },
        "id": "cryes3AugnVD",
        "outputId": "8c136372-fecb-4172-9c84-b4bc4ed30323"
      },
      "execution_count": 13,
      "outputs": [
        {
          "output_type": "stream",
          "name": "stdout",
          "text": [
            "CASE A:\n",
            "True\n",
            "False\n",
            "False\n",
            "True True\n",
            "---------\n",
            "CASE B:\n",
            "True\n",
            "True\n",
            "True\n",
            "True True\n"
          ]
        }
      ]
    },
    {
      "cell_type": "markdown",
      "source": [
        "##4. Какие из нижеперечисленных векторов образуют ортонормированный базис в линейном пространстве  ℝ3 :\n",
        "$$а)  (1,0,0),(0,0,1);  $$\n",
        "$$б)  (1/\\sqrt{2},−1/\\sqrt{2},0),(1/\\sqrt{2},1/\\sqrt{2},0),(0,0,1);$$\n",
        "$$в)  (1/2,−1/2,0),(0,1/2,1/2),(0,0,1);$$ \n",
        "$$г)  (1,0,0),(0,1,0),(0,0,1)$$?"
      ],
      "metadata": {
        "id": "WLieuSEHPT8z"
      }
    },
    {
      "cell_type": "markdown",
      "source": [
        "a) не хватает одного вектора для образования трехмерного базиса"
      ],
      "metadata": {
        "id": "VEKyR0rnj4H8"
      }
    },
    {
      "cell_type": "markdown",
      "source": [
        "б) базис ортонормирован"
      ],
      "metadata": {
        "id": "JGrtU6SXkLvt"
      }
    },
    {
      "cell_type": "code",
      "source": [
        "two_sqrt = 1/np.sqrt(2)\n",
        "b1 = np.array([two_sqrt, -two_sqrt, 0])\n",
        "b2 = np.array([two_sqrt, two_sqrt, 0])\n",
        "b3 = np.array([0, 0, 1])\n",
        "b1.dot(b2), b1.dot(b3), b2.dot(b3), norm(b1), norm(b2), norm(b3)"
      ],
      "metadata": {
        "colab": {
          "base_uri": "https://localhost:8080/"
        },
        "id": "paTZJtzjkAuq",
        "outputId": "766f79c5-97bc-4dfd-e71c-7fd76cb2f894"
      },
      "execution_count": 14,
      "outputs": [
        {
          "output_type": "execute_result",
          "data": {
            "text/plain": [
              "(0.0, 0.0, 0.0, 0.9999999999999999, 0.9999999999999999, 1.0)"
            ]
          },
          "metadata": {},
          "execution_count": 14
        }
      ]
    },
    {
      "cell_type": "markdown",
      "source": [
        "в) не образуют ортонормированный базис"
      ],
      "metadata": {
        "id": "axDkr9FVkPi-"
      }
    },
    {
      "cell_type": "code",
      "source": [
        "b1 = np.array([0.5, -0.5, 0])\n",
        "b2 = np.array([0, 0.5, 0.5])\n",
        "b3 = np.array([0, 0, 1])\n",
        "b1.dot(b2), b1.dot(b3), b2.dot(b3), norm(b1), norm(b2), norm(b3)"
      ],
      "metadata": {
        "colab": {
          "base_uri": "https://localhost:8080/"
        },
        "id": "kMWs2tl2PDWX",
        "outputId": "f337a625-05c3-47de-83c1-694e00b57f20"
      },
      "execution_count": 17,
      "outputs": [
        {
          "output_type": "execute_result",
          "data": {
            "text/plain": [
              "(-0.25, 0.0, 0.5, 0.7071067811865476, 0.7071067811865476, 1.0)"
            ]
          },
          "metadata": {},
          "execution_count": 17
        }
      ]
    },
    {
      "cell_type": "code",
      "source": [],
      "metadata": {
        "id": "3zY6CtGwkZRd"
      },
      "execution_count": null,
      "outputs": []
    }
  ]
}